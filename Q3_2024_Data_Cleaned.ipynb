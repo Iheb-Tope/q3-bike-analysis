{
 "cells": [
  {
   "cell_type": "code",
   "execution_count": 1,
   "id": "ce61ec9c-fa25-4aaf-a590-066f6fe7f353",
   "metadata": {},
   "outputs": [
    {
     "name": "stdout",
     "output_type": "stream",
     "text": [
      "Requirement already satisfied: duckdb in c:\\users\\ihebb\\anaconda3\\envs\\q3analysis\\lib\\site-packages (1.3.0)\n"
     ]
    }
   ],
   "source": [
    "!pip install duckdb\n"
   ]
  },
  {
   "cell_type": "code",
   "execution_count": 2,
   "id": "6869e987-ae98-4883-8f05-df2f9dd1ad2a",
   "metadata": {},
   "outputs": [],
   "source": [
    "import duckdb\n",
    "import pandas as pd\n",
    "import matplotlib.pyplot as plt"
   ]
  },
  {
   "cell_type": "code",
   "execution_count": 3,
   "id": "ece20d1b-7db3-462f-a0d2-e4586ceb52dd",
   "metadata": {},
   "outputs": [],
   "source": [
    "con = duckdb.connect('rides_q3.db')"
   ]
  },
  {
   "cell_type": "code",
   "execution_count": 4,
   "id": "13f7b03b-576a-4411-964b-17812ccd44cd",
   "metadata": {},
   "outputs": [
    {
     "name": "stdout",
     "output_type": "stream",
     "text": [
      "raw_data_q3 rows: 2325877\n"
     ]
    }
   ],
   "source": [
    "# Cell 3: Ingest all three CSVs into a raw view\n",
    "con.execute(r\"\"\"\n",
    "CREATE VIEW raw_data_q3 AS\n",
    "SELECT *\n",
    "FROM read_csv_auto('C:/Users/ihebb/Downloads/2024_Q3_csv/*.csv');\n",
    "\"\"\")\n",
    "print(\"raw_data_q3 rows:\", con.execute(\"SELECT COUNT(*) FROM raw_data_q3\").fetchone()[0])\n",
    "\n"
   ]
  },
  {
   "cell_type": "code",
   "execution_count": 5,
   "id": "54fdaded-a7f1-45bf-a584-22507bf0660b",
   "metadata": {},
   "outputs": [
    {
     "name": "stdout",
     "output_type": "stream",
     "text": [
      "data_q3 ready, sample:\n"
     ]
    },
    {
     "data": {
      "text/html": [
       "<div>\n",
       "<style scoped>\n",
       "    .dataframe tbody tr th:only-of-type {\n",
       "        vertical-align: middle;\n",
       "    }\n",
       "\n",
       "    .dataframe tbody tr th {\n",
       "        vertical-align: top;\n",
       "    }\n",
       "\n",
       "    .dataframe thead th {\n",
       "        text-align: right;\n",
       "    }\n",
       "</style>\n",
       "<table border=\"1\" class=\"dataframe\">\n",
       "  <thead>\n",
       "    <tr style=\"text-align: right;\">\n",
       "      <th></th>\n",
       "      <th>ride_length</th>\n",
       "      <th>day_of_week</th>\n",
       "    </tr>\n",
       "  </thead>\n",
       "  <tbody>\n",
       "    <tr>\n",
       "      <th>0</th>\n",
       "      <td>0 days 00:02:41.551000</td>\n",
       "      <td>5</td>\n",
       "    </tr>\n",
       "    <tr>\n",
       "      <th>1</th>\n",
       "      <td>0 days 00:20:56.392000</td>\n",
       "      <td>5</td>\n",
       "    </tr>\n",
       "    <tr>\n",
       "      <th>2</th>\n",
       "      <td>0 days 00:03:17.045000</td>\n",
       "      <td>5</td>\n",
       "    </tr>\n",
       "    <tr>\n",
       "      <th>3</th>\n",
       "      <td>0 days 00:28:04.800000</td>\n",
       "      <td>5</td>\n",
       "    </tr>\n",
       "    <tr>\n",
       "      <th>4</th>\n",
       "      <td>0 days 00:12:03.700000</td>\n",
       "      <td>5</td>\n",
       "    </tr>\n",
       "  </tbody>\n",
       "</table>\n",
       "</div>"
      ],
      "text/plain": [
       "             ride_length  day_of_week\n",
       "0 0 days 00:02:41.551000            5\n",
       "1 0 days 00:20:56.392000            5\n",
       "2 0 days 00:03:17.045000            5\n",
       "3 0 days 00:28:04.800000            5\n",
       "4 0 days 00:12:03.700000            5"
      ]
     },
     "metadata": {},
     "output_type": "display_data"
    }
   ],
   "source": [
    "# Cell 4: Add ride_length and day_of_week\n",
    "con.execute(r\"\"\"\n",
    "CREATE VIEW data_q3 AS\n",
    "SELECT\n",
    "  *,\n",
    "  ended_at - started_at                            AS ride_length,\n",
    "  CAST(EXTRACT(dow FROM started_at) AS INTEGER) + 1 AS day_of_week\n",
    "FROM raw_data_q3;\n",
    "\"\"\")\n",
    "print(\"data_q3 ready, sample:\")\n",
    "display(con.execute(\"SELECT ride_length, day_of_week FROM data_q3 LIMIT 5\").df())\n"
   ]
  },
  {
   "cell_type": "code",
   "execution_count": 6,
   "id": "1ac6ea32-4554-40ad-ac82-31457dc9c5d5",
   "metadata": {},
   "outputs": [
    {
     "data": {
      "application/vnd.jupyter.widget-view+json": {
       "model_id": "a2bb1fdf29c242709afbfe81fbdfa27b",
       "version_major": 2,
       "version_minor": 0
      },
      "text/plain": [
       "FloatProgress(value=0.0, layout=Layout(width='auto'), style=ProgressStyle(bar_color='black'))"
      ]
     },
     "metadata": {},
     "output_type": "display_data"
    },
    {
     "name": "stdout",
     "output_type": "stream",
     "text": [
      "cleaned_q3 contains months: [(9,), (8,), (7,)]   |  row count: 1608925\n"
     ]
    }
   ],
   "source": [
    "# Cell 5: Build cleaned_q3 with ONLY rides that start in Q3 (July–Sept)\n",
    "con.execute(r\"\"\"\n",
    "CREATE TABLE cleaned_q3 AS\n",
    "SELECT DISTINCT\n",
    "  ride_id,\n",
    "  rideable_type,\n",
    "  started_at,\n",
    "  ended_at,\n",
    "  start_station_id,\n",
    "  end_station_id,\n",
    "  ROUND(start_lat,4)   AS start_lat,\n",
    "  ROUND(start_lng,4)   AS start_lng,\n",
    "  ROUND(end_lat,4)     AS end_lat,\n",
    "  ROUND(end_lng,4)     AS end_lng,\n",
    "  member_casual,\n",
    "  ended_at - started_at                            AS ride_length,\n",
    "  CAST(EXTRACT(dow FROM started_at) AS INTEGER) + 1 AS day_of_week\n",
    "FROM data_q3\n",
    "WHERE\n",
    "  -- only rides that BEGIN on/after July 1, 2024, before Oct 1\n",
    "  started_at >= DATE '2024-07-01'\n",
    "  AND started_at <  DATE '2024-10-01'\n",
    "  -- drop nulls\n",
    "  AND ride_id          IS NOT NULL\n",
    "  AND start_station_id IS NOT NULL\n",
    "  AND end_station_id   IS NOT NULL\n",
    "  AND start_lat        IS NOT NULL\n",
    "  AND start_lng        IS NOT NULL\n",
    "  AND end_lat          IS NOT NULL\n",
    "  AND end_lng          IS NOT NULL\n",
    "  -- duration between 1 min and 24 hrs\n",
    "  AND (ended_at - started_at)\n",
    "      BETWEEN INTERVAL '1 minute' AND INTERVAL '24 hours'\n",
    ";\n",
    "\"\"\")\n",
    "print(\"cleaned_q3 contains months:\",\n",
    "      con.execute(\"SELECT DISTINCT EXTRACT(month FROM started_at) FROM cleaned_q3\").fetchall(),\n",
    "      \"  |  row count:\", con.execute(\"SELECT COUNT(*) FROM cleaned_q3\").fetchone()[0])\n"
   ]
  },
  {
   "cell_type": "code",
   "execution_count": 7,
   "id": "1ae558a2-ab5b-4274-a383-40dfb0459c6e",
   "metadata": {},
   "outputs": [
    {
     "data": {
      "text/html": [
       "<div>\n",
       "<style scoped>\n",
       "    .dataframe tbody tr th:only-of-type {\n",
       "        vertical-align: middle;\n",
       "    }\n",
       "\n",
       "    .dataframe tbody tr th {\n",
       "        vertical-align: top;\n",
       "    }\n",
       "\n",
       "    .dataframe thead th {\n",
       "        text-align: right;\n",
       "    }\n",
       "</style>\n",
       "<table border=\"1\" class=\"dataframe\">\n",
       "  <thead>\n",
       "    <tr style=\"text-align: right;\">\n",
       "      <th></th>\n",
       "      <th>month</th>\n",
       "      <th>mean_min</th>\n",
       "      <th>max_min</th>\n",
       "      <th>mode_dow</th>\n",
       "      <th>mode_day_name</th>\n",
       "    </tr>\n",
       "  </thead>\n",
       "  <tbody>\n",
       "    <tr>\n",
       "      <th>0</th>\n",
       "      <td>7</td>\n",
       "      <td>19.17</td>\n",
       "      <td>1438.70</td>\n",
       "      <td>4</td>\n",
       "      <td>Wednesday</td>\n",
       "    </tr>\n",
       "    <tr>\n",
       "      <th>1</th>\n",
       "      <td>8</td>\n",
       "      <td>18.13</td>\n",
       "      <td>1438.65</td>\n",
       "      <td>7</td>\n",
       "      <td>Saturday</td>\n",
       "    </tr>\n",
       "    <tr>\n",
       "      <th>2</th>\n",
       "      <td>9</td>\n",
       "      <td>16.32</td>\n",
       "      <td>1439.39</td>\n",
       "      <td>2</td>\n",
       "      <td>Monday</td>\n",
       "    </tr>\n",
       "  </tbody>\n",
       "</table>\n",
       "</div>"
      ],
      "text/plain": [
       "   month  mean_min  max_min  mode_dow mode_day_name\n",
       "0      7     19.17  1438.70         4     Wednesday\n",
       "1      8     18.13  1438.65         7      Saturday\n",
       "2      9     16.32  1439.39         2        Monday"
      ]
     },
     "execution_count": 7,
     "metadata": {},
     "output_type": "execute_result"
    }
   ],
   "source": [
    "# Cell 6: Monthly summary metrics (mean, max, mode weekday + name)\n",
    "monthly = con.execute(r\"\"\"\n",
    "WITH base AS (\n",
    "  SELECT\n",
    "    EXTRACT(month FROM started_at)::INT      AS month,\n",
    "    EXTRACT(epoch FROM (ended_at - started_at)) AS dur_s,\n",
    "    day_of_week\n",
    "  FROM cleaned_q3\n",
    ")\n",
    "SELECT\n",
    "  month,\n",
    "  ROUND(AVG(dur_s)/60.0,2)    AS mean_min,\n",
    "  ROUND(MAX(dur_s)/60.0,2)    AS max_min,\n",
    "  (\n",
    "    SELECT day_of_week\n",
    "    FROM (\n",
    "      SELECT day_of_week, COUNT(*) AS cnt\n",
    "      FROM base b2\n",
    "      WHERE b2.month = b1.month\n",
    "      GROUP BY day_of_week\n",
    "      ORDER BY cnt DESC\n",
    "      LIMIT 1\n",
    "    )\n",
    "  )                          AS mode_dow\n",
    "FROM base b1\n",
    "GROUP BY month\n",
    "ORDER BY month;\n",
    "\"\"\").df()\n",
    "\n",
    "# Map weekday number to name\n",
    "weekday_map = {1:'Sunday',2:'Monday',3:'Tuesday',4:'Wednesday',\n",
    "               5:'Thursday',6:'Friday',7:'Saturday'}\n",
    "monthly['mode_day_name'] = monthly['mode_dow'].map(weekday_map)\n",
    "\n",
    "monthly\n"
   ]
  },
  {
   "cell_type": "code",
   "execution_count": 8,
   "id": "ed88151b-2119-4632-ae14-73aaeb0ffe00",
   "metadata": {},
   "outputs": [
    {
     "data": {
      "text/html": [
       "<div>\n",
       "<style scoped>\n",
       "    .dataframe tbody tr th:only-of-type {\n",
       "        vertical-align: middle;\n",
       "    }\n",
       "\n",
       "    .dataframe tbody tr th {\n",
       "        vertical-align: top;\n",
       "    }\n",
       "\n",
       "    .dataframe thead th {\n",
       "        text-align: right;\n",
       "    }\n",
       "</style>\n",
       "<table border=\"1\" class=\"dataframe\">\n",
       "  <thead>\n",
       "    <tr style=\"text-align: right;\">\n",
       "      <th></th>\n",
       "      <th>period</th>\n",
       "      <th>mean_min</th>\n",
       "      <th>max_min</th>\n",
       "      <th>mode_dow</th>\n",
       "      <th>mode_day_name</th>\n",
       "    </tr>\n",
       "  </thead>\n",
       "  <tbody>\n",
       "    <tr>\n",
       "      <th>0</th>\n",
       "      <td>Q3_2024</td>\n",
       "      <td>17.88</td>\n",
       "      <td>1439.39</td>\n",
       "      <td>7</td>\n",
       "      <td>Saturday</td>\n",
       "    </tr>\n",
       "  </tbody>\n",
       "</table>\n",
       "</div>"
      ],
      "text/plain": [
       "    period  mean_min  max_min  mode_dow mode_day_name\n",
       "0  Q3_2024     17.88  1439.39         7      Saturday"
      ]
     },
     "execution_count": 8,
     "metadata": {},
     "output_type": "execute_result"
    }
   ],
   "source": [
    "# Cell 7: Q3 overall summary\n",
    "q3 = con.execute(r\"\"\"\n",
    "WITH base AS (\n",
    "  SELECT\n",
    "    EXTRACT(epoch FROM (ended_at - started_at)) AS dur_s,\n",
    "    day_of_week\n",
    "  FROM cleaned_q3\n",
    ")\n",
    "SELECT\n",
    "  'Q3_2024'                AS period,\n",
    "  ROUND(AVG(dur_s)/60.0,2) AS mean_min,\n",
    "  ROUND(MAX(dur_s)/60.0,2) AS max_min,\n",
    "  (\n",
    "    SELECT day_of_week\n",
    "    FROM (\n",
    "      SELECT day_of_week, COUNT(*) AS cnt\n",
    "      FROM base\n",
    "      GROUP BY day_of_week\n",
    "      ORDER BY cnt DESC\n",
    "      LIMIT 1\n",
    "    )\n",
    "  )                        AS mode_dow\n",
    "FROM base;\n",
    "\"\"\").df()\n",
    "\n",
    "q3['mode_day_name'] = q3['mode_dow'].map(weekday_map)\n",
    "q3\n"
   ]
  },
  {
   "cell_type": "code",
   "execution_count": 9,
   "id": "f753ac7b-40a9-4a38-a8b1-972e3105ea37",
   "metadata": {},
   "outputs": [
    {
     "data": {
      "text/plain": [
       "Text(0, 0.5, 'Rides')"
      ]
     },
     "execution_count": 9,
     "metadata": {},
     "output_type": "execute_result"
    },
    {
     "data": {
      "text/plain": [
       "<Figure size 640x480 with 0 Axes>"
      ]
     },
     "metadata": {},
     "output_type": "display_data"
    },
    {
     "data": {
      "image/png": "[encoded data removed]",
      "text/plain": [
       "<Figure size 640x480 with 1 Axes>"
      ]
     },
     "metadata": {},
     "output_type": "display_data"
    },
    {
     "data": {
      "text/plain": [
       "<Figure size 640x480 with 0 Axes>"
      ]
     },
     "metadata": {},
     "output_type": "display_data"
    },
    {
     "data": {
      "image/png": "[encoded data removed]",
      "text/plain": [
       "<Figure size 640x480 with 1 Axes>"
      ]
     },
     "metadata": {},
     "output_type": "display_data"
    }
   ],
   "source": [
    "# Cell 8: Visualizations\n",
    "\n",
    "# Daily Ride Count\n",
    "df_day = con.execute(\"\"\"\n",
    "  SELECT DATE(started_at) AS day, COUNT(*) AS rides\n",
    "  FROM cleaned_q3 GROUP BY day ORDER BY day\n",
    "\"\"\").df()\n",
    "plt.figure()\n",
    "df_day.plot(x='day', y='rides', legend=False)\n",
    "plt.title(\"Daily Ride Count (Q3 2024)\")\n",
    "plt.xlabel(\"Date\")\n",
    "plt.ylabel(\"Rides\")\n",
    "\n",
    "# Rides by Hour\n",
    "df_hr = con.execute(\"\"\"\n",
    "  SELECT EXTRACT(hour FROM started_at) AS hour, COUNT(*) AS rides\n",
    "  FROM cleaned_q3 GROUP BY hour ORDER BY hour\n",
    "\"\"\").df()\n",
    "plt.figure()\n",
    "df_hr.plot(x='hour', y='rides', kind='bar', legend=False)\n",
    "plt.title(\"Rides by Hour of Day\")\n",
    "plt.xlabel(\"Hour\")\n",
    "plt.ylabel(\"Rides\")\n"
   ]
  },
  {
   "cell_type": "code",
   "execution_count": null,
   "id": "2c256364-f1ac-4e62-8dad-f4a9f2988a38",
   "metadata": {},
   "outputs": [],
   "source": []
  }
 ],
 "metadata": {
  "kernelspec": {
   "display_name": "Python 3 (ipykernel)",
   "language": "python",
   "name": "python3"
  },
  "language_info": {
   "codemirror_mode": {
    "name": "ipython",
    "version": 3
   },
   "file_extension": ".py",
   "mimetype": "text/x-python",
   "name": "python",
   "nbconvert_exporter": "python",
   "pygments_lexer": "ipython3",
   "version": "3.9.23"
  }
 },
 "nbformat": 4,
 "nbformat_minor": 5
}
